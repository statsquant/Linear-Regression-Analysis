{
 "cells": [
  {
   "cell_type": "markdown",
   "id": "6160e438-12e2-4fe4-8d76-1fdbeba2a4f5",
   "metadata": {},
   "source": [
    "# Estimation"
   ]
  },
  {
   "cell_type": "code",
   "execution_count": null,
   "id": "f1c8c051-1674-49ed-8589-ecac423c7081",
   "metadata": {},
   "outputs": [],
   "source": []
  },
  {
   "cell_type": "markdown",
   "id": "b4273f07-2012-40d2-8055-0b3ec34d77a9",
   "metadata": {},
   "source": [
    "# Inference"
   ]
  },
  {
   "cell_type": "code",
   "execution_count": null,
   "id": "9aaca9de-7a75-4d5f-ac87-7e49e760e533",
   "metadata": {},
   "outputs": [],
   "source": []
  },
  {
   "cell_type": "markdown",
   "id": "2cf4d590-f164-4413-ac89-ea816a9e8eb0",
   "metadata": {},
   "source": [
    "# Apart from Assumption "
   ]
  },
  {
   "cell_type": "code",
   "execution_count": null,
   "id": "25338574-324b-4938-a39d-042807f0cfb6",
   "metadata": {},
   "outputs": [],
   "source": []
  },
  {
   "cell_type": "markdown",
   "id": "19dabb14-e378-447f-94b1-ed9e29e63e4f",
   "metadata": {},
   "source": [
    "# Prediction and Model Selection"
   ]
  },
  {
   "cell_type": "code",
   "execution_count": null,
   "id": "913da530-6f38-4af4-8b64-980753fa6fb4",
   "metadata": {},
   "outputs": [],
   "source": []
  }
 ],
 "metadata": {
  "kernelspec": {
   "display_name": "Python 3 (ipykernel)",
   "language": "python",
   "name": "python3"
  },
  "language_info": {
   "codemirror_mode": {
    "name": "ipython",
    "version": 3
   },
   "file_extension": ".py",
   "mimetype": "text/x-python",
   "name": "python",
   "nbconvert_exporter": "python",
   "pygments_lexer": "ipython3",
   "version": "3.12.2"
  }
 },
 "nbformat": 4,
 "nbformat_minor": 5
}
